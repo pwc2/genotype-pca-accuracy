{
 "cells": [
  {
   "cell_type": "markdown",
   "id": "6afbd123-8376-4bff-b03a-24273078a65f",
   "metadata": {},
   "source": [
    "# Load PCA/SM results for HGDP+1KG and UKB"
   ]
  },
  {
   "cell_type": "code",
   "execution_count": null,
   "id": "517744eb-dd19-4ee6-b577-aa824280c3ce",
   "metadata": {
    "tags": []
   },
   "outputs": [],
   "source": [
    "from google.cloud import storage\n",
    "import io\n",
    "import numpy as np\n",
    "import hail as hl\n",
    "\n",
    "hl.init(spark_conf={\"spark.driver.memory\": \"8g\"})"
   ]
  },
  {
   "cell_type": "markdown",
   "id": "72a1a1d7-ac37-4d44-8ec3-4613284a802b",
   "metadata": {},
   "source": [
    "## HGDP+1KG\n",
    "\n",
    "### Functions to load the HGDP+1KG PCA/SM results:\n",
    "  - `load_hgdp_1kg_globals` returns a 3-tuple of ndarrays, like (eigenvalues, spectral moments, standard errors)\n",
    "  - `load_hgdp_1kg_scores` returns an ndarray of shape (k, n) with PC scores\n",
    "  - `get_hgdp_1kg_count` returns a 2-tuple of integers, like (variant count, sample count)\n",
    "\n",
    "Valid args for `subset`:\n",
    "  - `subset=\"hgdp_1kg\"` for the combined HGDP+1KG subset (2733 unrelated samples)\n",
    "  - `subset=\"1kg\"` for the 1KG only subset (2159 unrelated samples)\n",
    "\n",
    "Valid args for `parity`:\n",
    "  - `parity=\"full\"` for the full dataset (no split)\n",
    "  - `parity=\"odd\"` for the odd chromosomes split\n",
    "  - `parity=\"even\"` for the even chromosomes split\n",
    "\n",
    "Valid args for `window_size`:\n",
    "  - If `parity=\"full\"`, `window_size` must be one of (0, 3, 10, 30, 100)*\n",
    "  - If `parity=\"odd\"`, `window_size` must be one of (0, 3, 10)\n",
    "  - If `parity=\"even\"`, `window_size` must be one of (0, 3, 10)\n",
    "  \n",
    "*We ran whitening with `window_size=30` and `window_size=100` on the full dataset, but it was too much. That's why for the odd/even splits we only used smaller window sizes."
   ]
  },
  {
   "cell_type": "code",
   "execution_count": null,
   "id": "f61a5940-21cc-42eb-98a2-ac3b3b1b968e",
   "metadata": {
    "tags": []
   },
   "outputs": [],
   "source": [
    "def _check_hgdp_1kg_args(subset, parity, window_size=None):\n",
    "    valid_subsets = (\"1kg\", \"hgdp_1kg\")\n",
    "    assert subset in valid_subsets, f\"subset must be one of {valid_subsets}.\"\n",
    "    valid_parities = (\"full\", \"odd\", \"even\")\n",
    "    assert parity in valid_parities, f\"parity must be one of {valid_parities}.\"\n",
    "    if window_size:\n",
    "        valid_ws = {\n",
    "            \"full\": (0, 3, 10, 30, 100),\n",
    "            \"odd\": (0, 3, 10),\n",
    "            \"even\": (0, 3, 10),\n",
    "        }\n",
    "        assert window_size in valid_ws[parity], f\"window_size must be one of {valid_ws[parity]}, when parity={parity}.\"\n",
    "\n",
    "\n",
    "def load_hgdp_1kg_globals(subset, parity, window_size):\n",
    "    try:\n",
    "        _check_hgdp_1kg_args(subset, parity, window_size)\n",
    "    except AssertionError as exc:\n",
    "        raise ValueError(exc) from None\n",
    "    else:\n",
    "        if subset == \"hgdp_1kg\":\n",
    "            folder = \"1kg_hgdp-2733-unrelated-samples\"\n",
    "        elif subset == \"1kg\":\n",
    "            folder = \"1kg-2159-unrelated-samples\"\n",
    "        gcs_prefix = f\"1kg-hgdp-data/3412-samples/{folder}/pca-sm-whitened-02\"\n",
    "        ht = hl.read_table(f\"gs://{gcs_prefix}/{parity}-scores-ws{window_size}-k50-MAF_0.01-r2_0.1.ht\")\n",
    "        eigvals = np.array(hl.eval(ht.eigenvalues))\n",
    "        spectral_moments = np.array(hl.eval(ht.spectral_moments))\n",
    "        std_errs = np.array(hl.eval(ht.standard_errors))\n",
    "        return eigvals, spectral_moments, std_errs\n",
    "\n",
    "\n",
    "def load_hgdp_1kg_scores(subset, parity, window_size):\n",
    "    try:\n",
    "        _check_hgdp_1kg_args(subset, parity, window_size)\n",
    "    except AssertionError as exc:\n",
    "        raise ValueError(exc) from None\n",
    "    else:\n",
    "        if subset == \"hgdp_1kg\":\n",
    "            folder = \"1kg_hgdp-2733-unrelated-samples\"\n",
    "        elif subset == \"1kg\":\n",
    "            folder = \"1kg-2159-unrelated-samples\"\n",
    "        gcs_prefix = f\"1kg-hgdp-data/3412-samples/{folder}/pca-sm-whitened-02\"\n",
    "        ht = hl.read_table(f\"gs://{gcs_prefix}/{parity}-scores-ws{window_size}-k50-MAF_0.01-r2_0.1.ht\")\n",
    "        scores = np.array(ht.scores.collect()).T\n",
    "        return scores\n",
    "\n",
    "\n",
    "def get_hgdp_1kg_count(subset, parity):\n",
    "    try:\n",
    "        _check_hgdp_1kg_args(subset, parity)\n",
    "    except AssertionError as exc:\n",
    "        raise ValueError(exc) from None\n",
    "    else:\n",
    "        counts = {\n",
    "            \"hgdp_1kg\": {\n",
    "                \"n\": 2733,\n",
    "                \"m\": {\"full\": 524351, \"odd\": 265079, \"even\": 259272},\n",
    "            },\n",
    "            \"1kg\": {\n",
    "                \"n\": 2159,\n",
    "                \"m\": {\"full\": 520108, \"odd\": 263215, \"even\": 256893},\n",
    "            },\n",
    "        }\n",
    "        m_variants = counts[subset][\"m\"][parity]\n",
    "        n_samples = counts[subset][\"n\"]\n",
    "        return m_variants, n_samples"
   ]
  },
  {
   "cell_type": "code",
   "execution_count": null,
   "id": "81e3c836-1971-443c-95c3-bd6419e3a986",
   "metadata": {
    "tags": []
   },
   "outputs": [],
   "source": [
    "def compute_crosscorr(nd1, nd2, k):\n",
    "    # Compute matrix of cross-correlations, take off-diagonal block, run SVD and return squared singular values\n",
    "    R = np.corrcoef(nd1, nd2)[:k, k:]\n",
    "    s = np.linalg.svd(R, compute_uv=False)\n",
    "    return s**2"
   ]
  },
  {
   "cell_type": "markdown",
   "id": "17829ef8-ce39-4c82-b480-42d1a96ce527",
   "metadata": {},
   "source": [
    "#### Write out a Table with sample IDs and superpopulations to use in `load_1kg_scores_and_superpops` function:"
   ]
  },
  {
   "cell_type": "code",
   "execution_count": null,
   "id": "e256fbc2-2e1c-464f-9ccb-34e1ca0a0d2a",
   "metadata": {
    "tags": []
   },
   "outputs": [],
   "source": [
    "overwrite = False\n",
    "\n",
    "# Load a 1KG scores table and the table with 1KG sample IDs/superpops/pops/etc.\n",
    "scores_ht = hl.read_table(\"gs://1kg-hgdp-data/3412-samples/1kg-2159-unrelated-samples/pca-sm-whitened-02/full-scores-ws0-k50-MAF_0.01-r2_0.1.ht\")\n",
    "samples_ht = hl.read_table(\"gs://hail-datasets-us/1000_Genomes/NYGC_30x/samples.ht\").key_by()\n",
    "\n",
    "# A few sample IDs in HGDP+1KG dataset need to be modified to get superpops\n",
    "s_to_rename = hl.set({\"NA12546\", \"NA12830\", \"NA18874\"})\n",
    "s_mapping = hl.dict({\"NA12546\": \"NA12546B\", \"NA12830\": \"NA12830A\", \"NA18874\": \"NA18874A\"})\n",
    "samples_ht = samples_ht.annotate(\n",
    "    s=hl.if_else(s_to_rename.contains(samples_ht.SampleID), \n",
    "                 s_mapping[samples_ht.SampleID], \n",
    "                 samples_ht.SampleID)\n",
    ")\n",
    "samples_ht = samples_ht.drop(\"metadata\")\n",
    "samples_ht = samples_ht.key_by(\"s\")\n",
    "samples_ht = samples_ht.select(*list(samples_ht.row_value))"
   ]
  },
  {
   "cell_type": "code",
   "execution_count": null,
   "id": "90831bc7-2424-467c-9dc2-72d2baf87a67",
   "metadata": {
    "tags": []
   },
   "outputs": [],
   "source": [
    "# Write/read new table with 1KG sample IDs/superpops/pops/etc.\n",
    "samples_ht = samples_ht.checkpoint(\n",
    "    \"gs://1kg/NYGC-30x-unphased/samples_and_populations.ht\",\n",
    "    overwrite=overwrite,\n",
    "    _read_if_exists=not overwrite\n",
    ")\n",
    "samples_ht.describe()\n",
    "samples_ht.show()"
   ]
  },
  {
   "cell_type": "code",
   "execution_count": null,
   "id": "e80ec9f1-b1e2-4241-bcbc-66f50fe21520",
   "metadata": {
    "tags": []
   },
   "outputs": [],
   "source": [
    "def load_1kg_scores_and_superpops(parity, window_size):\n",
    "    subset = \"1kg\"\n",
    "    try:\n",
    "        _check_hgdp_1kg_args(subset, parity, window_size)\n",
    "    except AssertionError as exc:\n",
    "        raise ValueError(exc) from None\n",
    "    else:\n",
    "        folder = \"1kg-2159-unrelated-samples\"\n",
    "        gcs_prefix = f\"1kg-hgdp-data/3412-samples/{folder}/pca-sm-whitened-02\"\n",
    "        samples_ht = hl.read_table(\"gs://1kg/NYGC-30x-unphased/samples_and_populations.ht\")\n",
    "        scores_ht = hl.read_table(f\"gs://{gcs_prefix}/{parity}-scores-ws{window_size}-k50-MAF_0.01-r2_0.1.ht\")\n",
    "        scores_ht = scores_ht.annotate(superpop=samples_ht[scores_ht.s].Superpopulation, \n",
    "                                       pop=samples_ht[scores_ht.s].Population)\n",
    "        row_vals = scores_ht.row_value.collect()\n",
    "        scores = np.array([x.scores for x in row_vals]).T\n",
    "        superpops = np.array([x.superpop for x in row_vals])\n",
    "        pops = np.array([x.pop for x in row_vals])\n",
    "        return scores, superpops, pops"
   ]
  },
  {
   "cell_type": "code",
   "execution_count": null,
   "id": "62308ab9-e3a9-435d-99d9-35a44e4f2e9d",
   "metadata": {
    "tags": []
   },
   "outputs": [],
   "source": [
    "scores0, superpop0, pop0 = load_1kg_scores_and_superpops(parity=\"full\", window_size=0)\n",
    "scores0, superpop0, pop0"
   ]
  },
  {
   "cell_type": "code",
   "execution_count": null,
   "id": "6a35cc03-3f86-4fdb-a9bb-95af2ba74536",
   "metadata": {
    "tags": []
   },
   "outputs": [],
   "source": [
    "scores3, superpop3, pop3 = load_1kg_scores_and_superpops(parity=\"full\", window_size=3)\n",
    "scores3, superpop3, pop3"
   ]
  },
  {
   "cell_type": "code",
   "execution_count": null,
   "id": "9f4ae0ef-d8a4-42b8-a8e3-017d94b42876",
   "metadata": {
    "tags": []
   },
   "outputs": [],
   "source": [
    "scores10, superpop10, pop10 = load_1kg_scores_and_superpops(parity=\"full\", window_size=10)\n",
    "scores10, superpop10, pop10"
   ]
  },
  {
   "cell_type": "code",
   "execution_count": null,
   "id": "17207d10-e046-4e86-9419-1602aa139191",
   "metadata": {
    "tags": []
   },
   "outputs": [],
   "source": [
    "np.all(superpop0 == superpop3) and np.all(superpop0 == superpop10) and np.all(superpop3 == superpop10)"
   ]
  },
  {
   "cell_type": "code",
   "execution_count": null,
   "id": "d9e0d91f-d074-4076-a9b8-7fd862891167",
   "metadata": {
    "tags": []
   },
   "outputs": [],
   "source": [
    "for p in ['full', 'odd', 'even']:\n",
    "    for w in [0, 3, 10]:\n",
    "        print(f\"parity = {p}, w = {w}:\")\n",
    "        print(load_1kg_scores_and_superpops(p, w))\n",
    "    print()"
   ]
  },
  {
   "cell_type": "markdown",
   "id": "a86ad0f9-eb00-44f2-9839-748dbd4c7e3e",
   "metadata": {},
   "source": [
    "### HGDP+1KG example:"
   ]
  },
  {
   "cell_type": "code",
   "execution_count": null,
   "id": "483bba33-8f5d-4039-bf6c-c14448e226d1",
   "metadata": {
    "tags": []
   },
   "outputs": [],
   "source": [
    "subset = \"hgdp_1kg\"\n",
    "parity = \"full\"\n",
    "window_size = 0\n",
    "\n",
    "eigval, sm, stderr = load_hgdp_1kg_globals(subset, parity, window_size)\n",
    "scores = load_hgdp_1kg_scores(subset, parity, window_size)\n",
    "m_variants, n_samples = get_hgdp_1kg_count(subset, parity)\n",
    "\n",
    "print(f\"subset = {subset}, parity = {parity}, window_size = {window_size}\")\n",
    "print(f\"variant count, sample count = {(m_variants, n_samples)}\")\n",
    "print(f\"PC scores =\\n{scores}\")\n",
    "print(f\"eigenvalues =\\n{eigval}\")\n",
    "print(f\"spectral moments =\\n{sm}\")\n",
    "print(f\"std. errors =\\n{stderr}\")"
   ]
  },
  {
   "cell_type": "markdown",
   "id": "8824fd08-6909-4542-945c-29555d82e893",
   "metadata": {},
   "source": [
    "### HGDP+1KG odd/even scores cross-correlation example:"
   ]
  },
  {
   "cell_type": "code",
   "execution_count": null,
   "id": "8464319d-b66d-4c70-91bb-37b5aace572d",
   "metadata": {
    "tags": []
   },
   "outputs": [],
   "source": [
    "subset = \"hgdp_1kg\"\n",
    "window_size = 0\n",
    "\n",
    "odd_scores = load_hgdp_1kg_scores(subset, \"odd\", window_size)\n",
    "even_scores = load_hgdp_1kg_scores(subset, \"even\", window_size)\n",
    "cross_corr = compute_crosscorr(even_scores, odd_scores, 50)\n",
    "print(f\"odd/even PC scores cross-correlation =\\n{cross_corr}\")"
   ]
  },
  {
   "cell_type": "markdown",
   "id": "57b38c78-9300-4ece-9db8-9914cd668e76",
   "metadata": {},
   "source": [
    "## UKB\n",
    "\n",
    "### Functions to load the UKB PCA/SM results:\n",
    "  - `load_ukb_globals` returns a 3-tuple of ndarrays, like (eigenvalues, spectral moments, standard errors)\n",
    "  - `load_ukb_scores` returns an ndarray of shape (k, n) with PC scores\n",
    "  - `get_ukb_count` returns a 2-tuple of integers, like (variant count, sample count)\n",
    "\n",
    "Valid args for `subset`:\n",
    "  - `subset=\"wb\"` for the UKB White British subset (337,111 unrelated samples)\n",
    "  - `subset=\"pan\"` for the UKB Pan-ancestry subset (406,696 unrelated samples)\n",
    "\n",
    "Valid args for `parity`:\n",
    "  - `parity=\"full\"` for the full dataset (no split)\n",
    "  - `parity=\"odd\"` for the odd chromosomes split\n",
    "  - `parity=\"even\"` for the even chromosomes split\n",
    "\n",
    "Valid args for `window_size`:\n",
    "  - `window_size` must be one of (0, 30, 100, 300)"
   ]
  },
  {
   "cell_type": "code",
   "execution_count": null,
   "id": "9ab6bc3c-d385-4886-8348-43408be90cba",
   "metadata": {
    "tags": []
   },
   "outputs": [],
   "source": [
    "def _check_ukb_args(subset, parity, window_size=None):\n",
    "    valid_subsets = (\"wb\", \"pan\")\n",
    "    assert subset in valid_subsets, f\"subset must be one of {valid_subsets}.\"\n",
    "    valid_parities = (\"full\", \"odd\", \"even\")\n",
    "    assert parity in valid_parities, f\"parity must be one of {valid_parities}.\"\n",
    "    if window_size:\n",
    "        valid_ws = (0, 30, 100, 300)\n",
    "        assert window_size in valid_ws, f\"window_size must be one of {valid_ws}.\"\n",
    "\n",
    "\n",
    "def load_ukb_globals(subset, parity, window_size):\n",
    "    try:\n",
    "        _check_ukb_args(subset, parity, window_size)\n",
    "    except AssertionError as exc:\n",
    "        raise ValueError(exc) from None\n",
    "    else:\n",
    "        if subset == \"wb\":\n",
    "            samples = \"337111-samples\"\n",
    "        elif subset == \"pan\":\n",
    "            samples = \"406696-samples\"\n",
    "        gcs_prefix = f\"gs://ukb-data/genotypes/{samples}/pca-sm-whitened-02\"\n",
    "        ht = hl.read_table(f\"{gcs_prefix}/{parity}-scores-ws{window_size}-k100.ht\")\n",
    "        eigvals = np.array(hl.eval(ht.eigenvalues))\n",
    "        spectral_moments = np.array(hl.eval(ht.spectral_moments))\n",
    "        std_errs = np.array(hl.eval(ht.standard_errors))\n",
    "        return eigvals, spectral_moments, std_errs\n",
    "\n",
    "\n",
    "def load_ukb_scores(subset, parity, window_size):\n",
    "    try:\n",
    "        _check_ukb_args(subset, parity, window_size)\n",
    "    except AssertionError as exc:\n",
    "        raise ValueError(exc) from None\n",
    "    else:\n",
    "        if subset == \"wb\":\n",
    "            samples = \"337111-samples\"\n",
    "        elif subset == \"pan\":\n",
    "            samples = \"406696-samples\"\n",
    "        storage_client = storage.Client()\n",
    "        bucket = storage_client.get_bucket(\"ukb-data\")\n",
    "        blob_prefix = f\"genotypes/{samples}/pca-sm-whitened-02\"\n",
    "        blob = bucket.blob(f\"{blob_prefix}/{parity}-scores-ws{window_size}-k100.npy\")\n",
    "        with io.BytesIO() as in_memory_file:\n",
    "            blob.download_to_file(in_memory_file)\n",
    "            in_memory_file.seek(0)\n",
    "            ndarray = np.load(in_memory_file)\n",
    "        return ndarray\n",
    "\n",
    "\n",
    "def get_ukb_count(subset, parity):\n",
    "    try:\n",
    "        _check_ukb_args(subset, parity)\n",
    "    except AssertionError as exc:\n",
    "        raise ValueError(exc) from None\n",
    "    else:\n",
    "        counts = {\n",
    "            \"n\": {\"wb\": 337111, \"pan\": 406696},\n",
    "            \"m\": {\"full\": 147604, \"odd\": 74651, \"even\": 72953},\n",
    "        }\n",
    "        m_variants = counts[\"m\"][parity]\n",
    "        n_samples = counts[\"n\"][subset]\n",
    "        return m_variants, n_samples"
   ]
  },
  {
   "cell_type": "markdown",
   "id": "00161114-1ffa-4a87-893c-2949b2173ac5",
   "metadata": {},
   "source": [
    "### UKB example:"
   ]
  },
  {
   "cell_type": "code",
   "execution_count": null,
   "id": "d23ca625-b184-4ed3-887d-ec54a746284f",
   "metadata": {
    "tags": []
   },
   "outputs": [],
   "source": [
    "subset = \"wb\"\n",
    "parity = \"full\"\n",
    "window_size = 0\n",
    "\n",
    "eigval, sm, stderr = load_ukb_globals(subset, parity, window_size)\n",
    "scores = load_ukb_scores(subset, parity, window_size)\n",
    "m_variants, n_samples = get_ukb_count(subset, parity)\n",
    "\n",
    "print(f\"subset = {subset}, parity = {parity}, window_size = {window_size}\")\n",
    "print(f\"variant count, sample count = {(m_variants, n_samples)}\")\n",
    "print(f\"PC scores =\\n{scores}\")\n",
    "print(f\"eigenvalues =\\n{eigval}\")\n",
    "print(f\"spectral moments =\\n{sm}\")\n",
    "print(f\"std. errors =\\n{stderr}\")\n",
    "print()"
   ]
  },
  {
   "cell_type": "markdown",
   "id": "8fb75a7c-b2e6-493c-a458-7e5d4b6e8eb4",
   "metadata": {},
   "source": [
    "### UKB odd/even scores cross-correlation example:"
   ]
  },
  {
   "cell_type": "code",
   "execution_count": null,
   "id": "03e5ad03-76f6-4121-bb32-61e2a62f0543",
   "metadata": {
    "tags": []
   },
   "outputs": [],
   "source": [
    "subset = \"wb\"\n",
    "window_size = 0\n",
    "\n",
    "odd_scores = load_ukb_scores(subset, \"odd\", window_size)\n",
    "even_scores = load_ukb_scores(subset, \"even\", window_size)\n",
    "cross_corr = compute_crosscorr(even_scores, odd_scores, 100)\n",
    "print(f\"odd/even PC scores cross-correlation =\\n{cross_corr}\")"
   ]
  },
  {
   "cell_type": "markdown",
   "id": "80a361ea-284d-490d-8a26-4116e84af4b0",
   "metadata": {},
   "source": [
    "# Load PCA/SM results for 1KG (NYGC 30x) - 2504/2030 sample sets\n",
    "\n",
    "This section is to load the PCA/SM results for the 1KG (NYGC 30x) data that we started with initially (the 2504/2030 sample sets) for validation."
   ]
  },
  {
   "cell_type": "markdown",
   "id": "669bfcd2-6578-42ac-b427-1f629793bb73",
   "metadata": {},
   "source": [
    "## 1KG (NYGC 30x)\n",
    "\n",
    "### Functions to load the 1KG (NYGC 30x) PCA/SM results:\n",
    "  - `load_1kg_globals` returns a 3-tuple of ndarrays, like (eigenvalues, spectral moments, standard errors)\n",
    "  - `load_1kg_scores` returns an ndarray of shape (k, n) with PC scores\n",
    "  - `get_1kg_count` returns a 2-tuple of integers, like (variant count, sample count)\n",
    "\n",
    "Valid args for `subset`:\n",
    "  - `subset=\"2504-samples\"` for the subset from 1KG phase 3 (2504 unrelated samples)\n",
    "  - `subset=\"2030-samples\"` for the subset from TGP2261 (Gazal et. al) pruned for relatedness (2030 unrelated samples)\n",
    "\n",
    "Valid args for `parity`:\n",
    "  - `parity=\"full\"` for the full dataset (no split)\n",
    "  - `parity=\"odd\"` for the odd chromosomes split\n",
    "  - `parity=\"even\"` for the even chromosomes split\n",
    "\n",
    "Valid args for `window_size`:\n",
    "  - `window_size` must be one of (0, 10, 50, 100)"
   ]
  },
  {
   "cell_type": "code",
   "execution_count": null,
   "id": "a57b329c-07e2-4780-a2ce-6623cda2c6d2",
   "metadata": {
    "tags": []
   },
   "outputs": [],
   "source": [
    "def _check_1kg_args(subset, parity, window_size=None):\n",
    "    valid_subsets = (\"2504-samples\", \"2030-samples\")\n",
    "    assert subset in valid_subsets, f\"subset must be one of {valid_subsets}.\"\n",
    "    valid_parities = (\"full\", \"odd\", \"even\")\n",
    "    assert parity in valid_parities, f\"parity must be one of {valid_parities}.\"\n",
    "    if window_size:\n",
    "        valid_ws = (0, 10, 50, 100)\n",
    "        assert window_size in valid_ws, f\"window_size must be one of {valid_ws}.\"\n",
    "\n",
    "\n",
    "def load_1kg_globals(subset, parity, window_size):\n",
    "    try:\n",
    "        _check_1kg_args(subset, parity, window_size)\n",
    "    except AssertionError as exc:\n",
    "        raise ValueError(exc) from None\n",
    "    else:\n",
    "        if subset == \"2504-samples\":\n",
    "            folder = subset\n",
    "        elif subset == \"2030-samples\":\n",
    "            folder = f\"{subset}-gazal-KING\"\n",
    "        gcs_prefix = f\"1kg/NYGC-30x-unphased/{folder}/pca-sm-whitened-02\"\n",
    "        ht = hl.read_table(f\"gs://{gcs_prefix}/{parity}-scores-ws{window_size}-k50-MAF_0.01-r2_0.1.ht\")\n",
    "        eigvals = np.array(hl.eval(ht.eigenvalues))\n",
    "        spectral_moments = np.array(hl.eval(ht.spectral_moments))\n",
    "        std_errs = np.array(hl.eval(ht.standard_errors))\n",
    "        return eigvals, spectral_moments, std_errs\n",
    "\n",
    "\n",
    "def load_1kg_scores(subset, parity, window_size):\n",
    "    try:\n",
    "        _check_1kg_args(subset, parity, window_size)\n",
    "    except AssertionError as exc:\n",
    "        raise ValueError(exc) from None\n",
    "    else:\n",
    "        if subset == \"2504-samples\":\n",
    "            folder = subset\n",
    "        elif subset == \"2030-samples\":\n",
    "            folder = f\"{subset}-gazal-KING\"\n",
    "        gcs_prefix = f\"1kg/NYGC-30x-unphased/{folder}/pca-sm-whitened-02\"\n",
    "        ht = hl.read_table(f\"gs://{gcs_prefix}/{parity}-scores-ws{window_size}-k50-MAF_0.01-r2_0.1.ht\")\n",
    "        scores = np.array(ht.scores.collect()).T\n",
    "        return scores\n",
    "\n",
    "\n",
    "def get_1kg_count(subset, parity):\n",
    "    try:\n",
    "        _check_1kg_args(subset, parity)\n",
    "    except AssertionError as exc:\n",
    "        raise ValueError(exc) from None\n",
    "    else:\n",
    "        counts = {\n",
    "            \"2504-samples\": {\n",
    "                \"n\": 2504,\n",
    "                \"m\": {\"full\": 656597, \"odd\": 333961, \"even\": 322636},\n",
    "            },\n",
    "            \"2030-samples\": {\n",
    "                \"n\": 2030,\n",
    "                \"m\": {\"full\": 665750, \"odd\": 338750, \"even\": 327000},\n",
    "            },\n",
    "        }\n",
    "        m_variants = counts[subset][\"m\"][parity]\n",
    "        n_samples = counts[subset][\"n\"]\n",
    "        return m_variants, n_samples"
   ]
  },
  {
   "cell_type": "markdown",
   "id": "3ba59397-948b-4812-a45f-fe46296dc441",
   "metadata": {},
   "source": [
    "### 1KG (NYGC 30x) example:"
   ]
  },
  {
   "cell_type": "code",
   "execution_count": null,
   "id": "d145a362-4b05-48b6-873b-e6f8df05dd94",
   "metadata": {
    "tags": []
   },
   "outputs": [],
   "source": [
    "subset = \"2504-samples\"\n",
    "parity = \"full\"\n",
    "window_size = 0\n",
    "\n",
    "eigval, sm, stderr = load_1kg_globals(subset, parity, window_size)\n",
    "scores = load_1kg_scores(subset, parity, window_size)\n",
    "m_variants, n_samples = get_1kg_count(subset, parity)\n",
    "\n",
    "print(f\"subset = {subset}, parity = {parity}, window_size = {window_size}\")\n",
    "print(f\"variant count, sample count = {(m_variants, n_samples)}\")\n",
    "print(f\"PC scores =\\n{scores}\")\n",
    "print(f\"eigenvalues =\\n{eigval}\")\n",
    "print(f\"spectral moments =\\n{sm}\")\n",
    "print(f\"std. errors =\\n{stderr}\")"
   ]
  },
  {
   "cell_type": "markdown",
   "id": "1a13ae44-ad3d-4e55-8260-28fddfbc9213",
   "metadata": {},
   "source": [
    "### 1KG (NYGC 30x) odd/even scores cross-correlation example:"
   ]
  },
  {
   "cell_type": "code",
   "execution_count": null,
   "id": "e7ecd06c-571b-4425-a9a0-d70e03e447d5",
   "metadata": {
    "tags": []
   },
   "outputs": [],
   "source": [
    "subset = \"2504-samples\"\n",
    "parity = \"full\"\n",
    "\n",
    "odd_scores = load_1kg_scores(subset, \"odd\", window_size)\n",
    "even_scores = load_1kg_scores(subset, \"even\", window_size)\n",
    "cross_corr = compute_crosscorr(even_scores, odd_scores, 50)\n",
    "print(f\"odd/even PC scores cross-correlation =\\n{cross_corr}\")"
   ]
  },
  {
   "cell_type": "code",
   "execution_count": null,
   "id": "4c7c090a-d9bc-4678-bf1a-65fb5ad3a662",
   "metadata": {},
   "outputs": [],
   "source": []
  }
 ],
 "metadata": {
  "kernelspec": {
   "display_name": "Python 3 (ipykernel)",
   "language": "python",
   "name": "python3"
  },
  "language_info": {
   "codemirror_mode": {
    "name": "ipython",
    "version": 3
   },
   "file_extension": ".py",
   "mimetype": "text/x-python",
   "name": "python",
   "nbconvert_exporter": "python",
   "pygments_lexer": "ipython3",
   "version": "3.9.13"
  },
  "widgets": {
   "application/vnd.jupyter.widget-state+json": {
    "state": {},
    "version_major": 2,
    "version_minor": 0
   }
  }
 },
 "nbformat": 4,
 "nbformat_minor": 5
}
