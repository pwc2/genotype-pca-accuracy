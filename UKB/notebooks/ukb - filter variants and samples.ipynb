{
 "cells": [
  {
   "cell_type": "markdown",
   "id": "545a370b-0f17-4db8-8799-f4424bc64957",
   "metadata": {},
   "source": [
    "# UK Biobank (UKB) - Filtering and QC"
   ]
  },
  {
   "cell_type": "markdown",
   "id": "402074be",
   "metadata": {},
   "source": [
    "[UKB Nature paper, \"The UK Biobank resource with deep phenotyping and genomic data\"](https://www.nature.com/articles/s41586-018-0579-z)"
   ]
  },
  {
   "cell_type": "code",
   "execution_count": null,
   "id": "13e73d7d",
   "metadata": {},
   "outputs": [],
   "source": [
    "import hail as hl\n",
    "\n",
    "hl.init()"
   ]
  },
  {
   "cell_type": "markdown",
   "id": "bd5f4819",
   "metadata": {},
   "source": [
    "## UKB SNP QC\n",
    "\n",
    "Import UKB SNP QC file as Hail table, to get the SNPs used in PCA."
   ]
  },
  {
   "cell_type": "markdown",
   "id": "00993164",
   "metadata": {},
   "source": [
    "### Create SNP QC Hail table:"
   ]
  },
  {
   "cell_type": "code",
   "execution_count": null,
   "id": "8952dda6",
   "metadata": {},
   "outputs": [],
   "source": [
    "# Import UKB SNP QC file as Hail table\n",
    "snp_qc_ht = hl.import_table(\n",
    "    'gs://fc-9a7c5487-04c9-4182-b3ec-13de7f6b409b/genotype/ukb_snp_qc.txt', \n",
    "    delimiter='\\s+',\n",
    "    impute=True,\n",
    "    types={'chromosome': hl.tstr, 'position': hl.tint32},\n",
    "    min_partitions=4\n",
    ")\n",
    "snp_qc_ht = snp_qc_ht.rename({\n",
    "    'PC9_loading_1': 'PC19_loading', \n",
    "    'PC9_loading_2': 'PC29_loading', \n",
    "    'PC9_loading_3': 'PC39_loading'\n",
    "})\n",
    "\n",
    "# Need to update contigs 23, 24, 25, 26 to X, Y, X, MT \n",
    "chr_mapping = hl.dict({\n",
    "    **{str(k): str(k) for k in range(1,23)}, \n",
    "    **{'23': 'X', '24': 'Y', '25': 'X', '26': 'MT'}\n",
    "})\n",
    "snp_qc_ht = snp_qc_ht.annotate(chromosome=chr_mapping[snp_qc_ht.chromosome])\n",
    "\n",
    "# Key by locus/alleles and write out SNP QC Hail table\n",
    "snp_qc_ht = snp_qc_ht.annotate(\n",
    "    locus=hl.locus(snp_qc_ht.chromosome, snp_qc_ht.position, reference_genome='GRCh37'),\n",
    "    alleles=[snp_qc_ht.allele1_ref, snp_qc_ht.allele2_alt]\n",
    ")\n",
    "snp_qc_ht = snp_qc_ht.key_by('locus', 'alleles')\n",
    "snp_qc_ht = snp_qc_ht.select(*list(snp_qc_ht.row_value))\n",
    "snp_qc_ht = snp_qc_ht.checkpoint('gs://ukb-data/variants/ukb_snp_qc.ht', overwrite=False, _read_if_exists=True)\n",
    "\n",
    "print(f'snp_qc_ht, count: {snp_qc_ht.count()}')\n",
    "print(f'snp_qc_ht, distinct count: {snp_qc_ht.distinct().count()}')\n",
    "snp_qc_ht.show()"
   ]
  },
  {
   "cell_type": "markdown",
   "id": "b09b7ac3",
   "metadata": {},
   "source": [
    "### Create Hail table with 147,604 SNPs used in PCA:"
   ]
  },
  {
   "cell_type": "code",
   "execution_count": null,
   "id": "86b19b2f",
   "metadata": {},
   "outputs": [],
   "source": [
    "# Load UKB SNP QC Hail table we just wrote, should have 147,604 SNPs used in PCA\n",
    "snp_qc_ht = hl.read_table('gs://ukb-data/variants/ukb_snp_qc.ht')\n",
    "snp_in_pca_ht = snp_qc_ht.filter(snp_qc_ht.in_PCA == 1)\n",
    "snp_in_pca_ht = snp_in_pca_ht.checkpoint('gs://ukb-data/variants/ukb_snp_in_pca_147604.ht', overwrite=False, _read_if_exists=True)\n",
    "\n",
    "print(f'snp_in_pca_ht, count: {snp_in_pca_ht.count()}')"
   ]
  },
  {
   "cell_type": "markdown",
   "id": "552938b1",
   "metadata": {},
   "source": [
    "## UKB Sample QC"
   ]
  },
  {
   "cell_type": "markdown",
   "id": "0229e95b",
   "metadata": {},
   "source": [
    "### Create sample QC Hail table:"
   ]
  },
  {
   "cell_type": "code",
   "execution_count": null,
   "id": "f7151841",
   "metadata": {},
   "outputs": [],
   "source": [
    "sample_qc_ht = hl.import_table(\n",
    "    'gs://ukb31063/ukb31063.sample_qc.tsv.bgz',\n",
    "    delimiter='\\s+',\n",
    "    impute=True,\n",
    "    min_partitions=4\n",
    ")\n",
    "sample_qc_ht = sample_qc_ht.checkpoint('gs://ukb-data/samples/ukb_sample_qc.ht', overwrite=False, _read_if_exists=True)\n",
    "print(f'sample_qc_ht count: {sample_qc_ht.count()}')\n",
    "sample_qc_ht.show()"
   ]
  },
  {
   "cell_type": "markdown",
   "id": "f2ea2df7",
   "metadata": {},
   "source": [
    "### Withdrawn participants:\n",
    "\n",
    "The most recent withdrawn participants file is located at:  [gs://ukb31063/ukb31063.withdrawn_participants.20210809.csv](https://storage.googleapis.com/ukb31063/ukb31063.withdrawn_participants.20210809.csv)."
   ]
  },
  {
   "cell_type": "code",
   "execution_count": null,
   "id": "7da06ab9",
   "metadata": {},
   "outputs": [],
   "source": [
    "# Create Hail table from the most recently updated withdrawn participants file\n",
    "wd_samples_ht = hl.import_table(\n",
    "    'gs://ukb31063/ukb31063.withdrawn_participants.20210809.csv', \n",
    "    delimiter='\\s+', \n",
    "    no_header=True,\n",
    "    impute=True\n",
    ")\n",
    "wd_samples_ht = wd_samples_ht.rename({'f0': 's'})\n",
    "wd_samples_ht = wd_samples_ht.key_by('s')\n",
    "wd_samples_ht = wd_samples_ht.checkpoint('gs://ukb-data/samples/withdrawn_samples_20210809.ht', overwrite=False, _read_if_exists=True)\n",
    "\n",
    "print(f'wd_samples_ht count: {wd_samples_ht.count()}')\n",
    "wd_samples_ht.describe()"
   ]
  },
  {
   "cell_type": "markdown",
   "id": "f4d56cf5",
   "metadata": {},
   "source": [
    "## White British UKB subset\n",
    "\n",
    "Source: \n",
    "\n",
    "https://github.com/Nealelab/UK_Biobank_GWAS/tree/master/imputed-v2-gwas\n",
    "\n",
    "> **Primary sample QC parameters for GWAS from ukb_sqc_v2.txt file:**\n",
    ">   * in.Phasing.Input.chr1_22==1\n",
    ">   * in.white.British.ancestry.subset==1\n",
    ">   * used.in.pca.calculation==1\n",
    ">   * excess.relatives==0\n",
    ">   * putative.sex.chromosome.aneuploidy==0\n",
    ">  \n",
    "> **Additional QC parameters**\n",
    ">   * Samples withdrawn un UK Biobank update = 8 \n",
    ">   * Samples redacted = 3 ([-3,-2,-1] in the sample ID) \n",
    "> \n",
    "> **Pre/post QC sample counts**\n",
    ">   * Imputed samples removed from QC file = 151180\n",
    ">   * Imputed samples retained in QC file = 337199\n",
    ">   * NOTE: all samples retained are in the .bgen files\n",
    ">   * NOTE: The ukb_sqc_v2.txt file has more samples than the .bgen files, but the same number of samples as the application specific .sample file"
   ]
  },
  {
   "cell_type": "markdown",
   "id": "fcfae883",
   "metadata": {},
   "source": [
    "After applying the sample QC filters from the v2 GWAS we end up with 337208 samples, and we still need to remove samples from withdrawn participants."
   ]
  },
  {
   "cell_type": "code",
   "execution_count": null,
   "id": "a82130dc",
   "metadata": {},
   "outputs": [],
   "source": [
    "sample_qc_ht = hl.read_table('gs://ukb-data/samples/ukb_sample_qc.ht')\n",
    "wd_samples_ht = hl.read_table('gs://ukb-data/samples/withdrawn_samples_20210809.ht')\n",
    "\n",
    "# Apply sample QC filters used in the v2 GWAS\n",
    "samples_v2_ht = sample_qc_ht.filter(\n",
    "    (sample_qc_ht['in.Phasing.Input.chr1_22'] == 1) & \n",
    "    (sample_qc_ht['in.white.British.ancestry.subset'] == 1) &\n",
    "    (sample_qc_ht['used.in.pca.calculation'] == 1) &\n",
    "    (sample_qc_ht['excess.relatives'] == 0) &\n",
    "    (sample_qc_ht['putative.sex.chromosome.aneuploidy'] == 0)\n",
    ")\n",
    "print('Removed samples not satisfying sample QC parameters.')\n",
    "print(f'samples_v2_ht count: {samples_v2_ht.count()}')\n",
    "print()\n",
    "\n",
    "# Remove redacted samples (negative ID)\n",
    "samples_v2_ht = samples_v2_ht.filter(samples_v2_ht.id > 0)\n",
    "print('Removed redacted samples.')\n",
    "print(f'samples_v2_ht count: {samples_v2_ht.count()}')\n",
    "print()\n",
    "\n",
    "# Remove withdrawn participant samples\n",
    "withdrawn_samples = hl.set(wd_samples_ht.s.collect())\n",
    "samples_v2_ht = samples_v2_ht.filter(~withdrawn_samples.contains(samples_v2_ht['id']))\n",
    "print('Removed withdrawn participant samples.')\n",
    "print(f'samples_v2_ht count: {samples_v2_ht.count()}')\n",
    "print()\n",
    "\n",
    "samples_v2_ht = samples_v2_ht.checkpoint('gs://ukb-data/samples/wb_337111.ht', overwrite=False)"
   ]
  },
  {
   "cell_type": "markdown",
   "id": "c75de9fe",
   "metadata": {},
   "source": [
    "### Load and filter UKB genotype MatrixTable to White British Subset:"
   ]
  },
  {
   "cell_type": "code",
   "execution_count": null,
   "id": "b376d616",
   "metadata": {},
   "outputs": [],
   "source": [
    "variants_ht = hl.read_table('gs://ukb-data/variants/ukb_snp_in_pca_147604.ht')\n",
    "\n",
    "samples_ht = hl.read_table('gs://ukb-data/samples/wb_337111.ht')\n",
    "samples_ht = samples_ht.annotate(s=hl.str(samples_ht.id))\n",
    "samples_ht = samples_ht.key_by('s')\n",
    "\n",
    "gt_mt = hl.read_matrix_table('gs://ukb31063/ukb31063.genotype.mt')\n",
    "gt_mt = gt_mt.semi_join_cols(samples_ht).semi_join_rows(variants_ht)\n",
    "gt_mt = gt_mt.repartition(256)\n",
    "\n",
    "gt_mt.write('gs://ukb-data/genotypes/337111-samples/gt_147604_337111.mt', overwrite=False)\n",
    "gt_mt = hl.read_matrix_table('gs://ukb-data/genotypes/337111-samples/gt_147604_337111.mt')\n",
    "print(gt_mt.count())\n",
    "gt_mt.describe()"
   ]
  },
  {
   "cell_type": "markdown",
   "id": "24b36b4a",
   "metadata": {},
   "source": [
    "## Pan-UKB subset"
   ]
  },
  {
   "cell_type": "code",
   "execution_count": null,
   "id": "b1029979",
   "metadata": {},
   "outputs": [],
   "source": [
    "sample_qc_ht = hl.read_table('gs://ukb-data/samples/ukb_sample_qc.ht')\n",
    "wd_samples_ht = hl.read_table('gs://ukb-data/samples/withdrawn_samples_20210809.ht')\n",
    "                                       \n",
    "# Apply sample QC filters used in the v2 GWAS, but omitting 'in.white.British.ancestry.subset==1'\n",
    "samples_panukb_ht = sample_qc_ht.filter(\n",
    "    (sample_qc_ht['in.Phasing.Input.chr1_22'] == 1) & \n",
    "    (sample_qc_ht['used.in.pca.calculation'] == 1) &\n",
    "    (sample_qc_ht['excess.relatives'] == 0) &\n",
    "    (sample_qc_ht['putative.sex.chromosome.aneuploidy'] == 0)\n",
    ")\n",
    "print('Removed samples not satisfying sample QC parameters.')\n",
    "print(f'samples_panukb_ht count: {samples_panukb_ht.count()}')\n",
    "print()\n",
    "\n",
    "# Remove redacted samples (negative ID)\n",
    "samples_panukb_ht = samples_panukb_ht.filter(samples_panukb_ht.id > 0)\n",
    "print('Removed redacted samples.')\n",
    "print(f'samples_panukb_ht count: {samples_panukb_ht.count()}')\n",
    "print()\n",
    "\n",
    "# Remove withdrawn participant samples\n",
    "withdrawn_samples = hl.set(wd_samples_ht.s.collect())\n",
    "samples_panukb_ht = samples_panukb_ht.filter(~withdrawn_samples.contains(samples_panukb_ht['id']))\n",
    "print('Removed withdrawn participant samples.')\n",
    "print(f'samples_panukb_ht count: {samples_panukb_ht.count()}')\n",
    "print()\n",
    "\n",
    "samples_panukb_ht = samples_panukb_ht.checkpoint('gs://ukb-data/samples/pan_ukb_406696.ht', overwrite=False)"
   ]
  },
  {
   "cell_type": "markdown",
   "id": "819751a0",
   "metadata": {},
   "source": [
    "### Load and filter UKB genotype MatrixTable to Pan-UKB subset:"
   ]
  },
  {
   "cell_type": "code",
   "execution_count": null,
   "id": "fba66d3e",
   "metadata": {},
   "outputs": [],
   "source": [
    "variants_ht = hl.read_table('gs://ukb-data/variants/ukb_snp_in_pca_147604.ht')\n",
    "\n",
    "samples_ht = hl.read_table('gs://ukb-data/samples/pan_ukb_406696.ht')\n",
    "samples_ht = samples_ht.annotate(s=hl.str(samples_ht.id))\n",
    "samples_ht = samples_ht.key_by('s')\n",
    "\n",
    "gt_mt = hl.read_matrix_table('gs://ukb31063/ukb31063.genotype.mt')\n",
    "gt_mt = gt_mt.semi_join_cols(samples_ht).semi_join_rows(variants_ht)\n",
    "gt_mt = gt_mt.repartition(256)\n",
    "\n",
    "gt_mt.write('gs://ukb-data/genotypes/406696-samples/gt_147604_406696.mt', overwrite=False)\n",
    "gt_mt = hl.read_matrix_table('gs://ukb-data/genotypes/406696-samples/gt_147604_406696.mt')\n",
    "print(gt_mt.count())\n",
    "gt_mt.describe()"
   ]
  },
  {
   "cell_type": "markdown",
   "id": "fc4c5173",
   "metadata": {},
   "source": [
    "## UK Birth Coordinates (for PC score heatmaps)"
   ]
  },
  {
   "cell_type": "code",
   "execution_count": null,
   "id": "e24ddffe",
   "metadata": {},
   "outputs": [],
   "source": [
    "# Hacky way to just get the fields we need and avoid issues with import of file above\n",
    "lines_ht = hl.import_lines('gs://ukb31063/ukb31063.phenotypes.20191008.csv.bgz')\n",
    "lines_ht = lines_ht.annotate(text_split = lines_ht.text.split(\",\"))\n",
    "lines_ht = lines_ht.annotate(s = lines_ht.text_split[0].replace('\"', ''),\n",
    "                             _129_0_0 = lines_ht.text_split[370].replace('\"', ''),\n",
    "                             _129_1_0 = lines_ht.text_split[371].replace('\"', ''),\n",
    "                             _129_2_0 = lines_ht.text_split[372].replace('\"', ''),\n",
    "                             _130_0_0 = lines_ht.text_split[373].replace('\"', ''),\n",
    "                             _130_1_0 = lines_ht.text_split[374].replace('\"', ''),\n",
    "                             _130_2_0 = lines_ht.text_split[375].replace('\"', ''))\n",
    "lines_ht = lines_ht.select('s', \n",
    "                           '_129_0_0', \n",
    "                           '_129_1_0', \n",
    "                           '_129_2_0',\n",
    "                           '_130_0_0', \n",
    "                           '_130_1_0', \n",
    "                           '_130_2_0')\n",
    "lines_ht = lines_ht.filter(lines_ht.s != 'eid')\n",
    "lines_ht = lines_ht.annotate(\n",
    "    s = hl.int32(lines_ht.s),\n",
    "    _129_0_0 = hl.if_else(lines_ht._129_0_0 == \"\", hl.missing(hl.tint32), hl.int32(lines_ht._129_0_0)),\n",
    "    _129_1_0 = hl.if_else(lines_ht._129_1_0 == \"\", hl.missing(hl.tint32), hl.int32(lines_ht._129_1_0)),\n",
    "    _129_2_0 = hl.if_else(lines_ht._129_2_0 == \"\", hl.missing(hl.tint32), hl.int32(lines_ht._129_2_0)),\n",
    "    _130_0_0 = hl.if_else(lines_ht._130_0_0 == \"\", hl.missing(hl.tint32), hl.int32(lines_ht._130_0_0)),\n",
    "    _130_1_0 = hl.if_else(lines_ht._130_1_0 == \"\", hl.missing(hl.tint32), hl.int32(lines_ht._130_1_0)),\n",
    "    _130_2_0 = hl.if_else(lines_ht._130_2_0 == \"\", hl.missing(hl.tint32), hl.int32(lines_ht._130_2_0)))\n",
    "lines_ht = lines_ht.key_by('s')\n",
    "lines_ht = lines_ht.checkpoint('gs://ukb-data/samples/uk_birth_coordinates-checkpoint.ht', overwrite=False)"
   ]
  },
  {
   "cell_type": "markdown",
   "id": "09e4124d-e54d-4ef9-a3c3-b1ebe7d12fd7",
   "metadata": {
    "execution": {
     "iopub.execute_input": "2023-01-25T20:49:18.343361Z",
     "iopub.status.busy": "2023-01-25T20:49:18.342820Z",
     "iopub.status.idle": "2023-01-25T20:49:18.347658Z",
     "shell.execute_reply": "2023-01-25T20:49:18.346788Z",
     "shell.execute_reply.started": "2023-01-25T20:49:18.343295Z"
    }
   },
   "source": [
    "### Create Hail Table containing all samples with defined birth coordinates:"
   ]
  },
  {
   "cell_type": "code",
   "execution_count": null,
   "id": "9c68cff1",
   "metadata": {},
   "outputs": [],
   "source": [
    "uk_birth_coordinates_ht = hl.read_table('gs://ukb-data/samples/uk_birth_coordinates-checkpoint.ht')\n",
    "\n",
    "# Get first available UK birth coordinates (if available)\n",
    "uk_birth_coordinates_ht = uk_birth_coordinates_ht.annotate(\n",
    "    _129_tup=hl.enumerate([uk_birth_coordinates_ht._129_0_0, \n",
    "                           uk_birth_coordinates_ht._129_1_0, \n",
    "                           uk_birth_coordinates_ht._129_2_0]),\n",
    "    _130_tup=hl.enumerate([uk_birth_coordinates_ht._130_0_0, \n",
    "                           uk_birth_coordinates_ht._130_1_0, \n",
    "                           uk_birth_coordinates_ht._130_2_0])\n",
    ")\n",
    "uk_birth_coordinates_ht = uk_birth_coordinates_ht.annotate(\n",
    "    north_coord_129=uk_birth_coordinates_ht._129_tup.find(lambda x: hl.is_defined(x[1]))[1],\n",
    "    east_coord_130=uk_birth_coordinates_ht._130_tup.find(lambda x: hl.is_defined(x[1]))[1]\n",
    ")\n",
    "uk_birth_coordinates_ht = uk_birth_coordinates_ht.drop('_129_tup', '_130_tup')\n",
    "\n",
    "# Filter to only samples with defined UK birth coordinates and write out table\n",
    "uk_birth_coordinates_ht = uk_birth_coordinates_ht.filter(\n",
    "    hl.is_defined(uk_birth_coordinates_ht.north_coord_129) & (uk_birth_coordinates_ht.north_coord_129 != -1) & \n",
    "    hl.is_defined(uk_birth_coordinates_ht.east_coord_130) & (uk_birth_coordinates_ht.east_coord_130 != -1)\n",
    ")\n",
    "uk_birth_coordinates_ht = uk_birth_coordinates_ht.naive_coalesce(1)\n",
    "uk_birth_coordinates_ht = uk_birth_coordinates_ht.checkpoint('gs://ukb-data/samples/uk_birth_coordinates.ht', \n",
    "                                                             overwrite=False)"
   ]
  },
  {
   "cell_type": "markdown",
   "id": "21a4d732",
   "metadata": {},
   "source": [
    "### Pan-UKB subset:"
   ]
  },
  {
   "cell_type": "code",
   "execution_count": null,
   "id": "a10422bf",
   "metadata": {},
   "outputs": [],
   "source": [
    "overwrite = False\n",
    "uk_birth_coordinates_ht = hl.read_table('gs://ukb-data/samples/uk_birth_coordinates.ht')\n",
    "\n",
    "# Load pan-UKB samples table\n",
    "pan_ukb_sample_ht = hl.read_table('gs://ukb-data/samples/pan_ukb_406696.ht')\n",
    "pan_ukb_sample_ht = pan_ukb_sample_ht.rename({'id': 's'})\n",
    "pan_ukb_sample_ht = pan_ukb_sample_ht.key_by('s')\n",
    "\n",
    "# Create sample birth coordinates table for pan-UKB sample subset and checkpoint\n",
    "uk_birth_coordinates_406696_ht = uk_birth_coordinates_ht.semi_join(pan_ukb_sample_ht)\n",
    "uk_birth_coordinates_406696_ht = uk_birth_coordinates_406696_ht.checkpoint(\n",
    "    'gs://ukb-data/samples/pan_ukb_406696-uk_birth_coordinates.ht', \n",
    "    overwrite=overwrite, \n",
    "    _read_if_exists=not overwrite\n",
    ")\n",
    "print(f'Pan-UKB birth coordinates row count: {uk_birth_coordinates_406696_ht.count()}.')"
   ]
  },
  {
   "cell_type": "markdown",
   "id": "b2ea5597",
   "metadata": {},
   "source": [
    "### White British subset:"
   ]
  },
  {
   "cell_type": "code",
   "execution_count": null,
   "id": "4d9ebb2e",
   "metadata": {},
   "outputs": [],
   "source": [
    "overwrite = False\n",
    "uk_birth_coordinates_ht = hl.read_table('gs://ukb-data/samples/uk_birth_coordinates.ht')\n",
    "\n",
    "# Load WB samples table\n",
    "wb_sample_ht = hl.read_table('gs://ukb-data/samples/wb_337111.ht')\n",
    "wb_sample_ht = wb_sample_ht.rename({'id': 's'})\n",
    "wb_sample_ht = wb_sample_ht.key_by('s')\n",
    "\n",
    "# Create sample birth coordinates table for WB sample subset and checkpoint\n",
    "uk_birth_coordinates_337111_ht = uk_birth_coordinates_ht.semi_join(wb_sample_ht)\n",
    "uk_birth_coordinates_337111_ht = uk_birth_coordinates_337111_ht.checkpoint(\n",
    "    'gs://ukb-data/samples/wb_337111-uk_birth_coordinates.ht', \n",
    "    overwrite=overwrite, \n",
    "    _read_if_exists=not overwrite\n",
    ")\n",
    "print(f'WB birth coordinates row count: {uk_birth_coordinates_337111_ht.count()}.')"
   ]
  },
  {
   "cell_type": "code",
   "execution_count": null,
   "id": "0b970405-9ae7-4ccc-90df-8664a7bf2a07",
   "metadata": {},
   "outputs": [],
   "source": []
  }
 ],
 "metadata": {
  "kernelspec": {
   "display_name": "Python 3 (ipykernel)",
   "language": "python",
   "name": "python3"
  },
  "language_info": {
   "codemirror_mode": {
    "name": "ipython",
    "version": 3
   },
   "file_extension": ".py",
   "mimetype": "text/x-python",
   "name": "python",
   "nbconvert_exporter": "python",
   "pygments_lexer": "ipython3",
   "version": "3.9.13"
  },
  "varInspector": {
   "cols": {
    "lenName": 16,
    "lenType": 16,
    "lenVar": 40
   },
   "kernels_config": {
    "python": {
     "delete_cmd_postfix": "",
     "delete_cmd_prefix": "del ",
     "library": "var_list.py",
     "varRefreshCmd": "print(var_dic_list())"
    },
    "r": {
     "delete_cmd_postfix": ") ",
     "delete_cmd_prefix": "rm(",
     "library": "var_list.r",
     "varRefreshCmd": "cat(var_dic_list()) "
    }
   },
   "types_to_exclude": [
    "module",
    "function",
    "builtin_function_or_method",
    "instance",
    "_Feature"
   ],
   "window_display": false
  },
  "widgets": {
   "application/vnd.jupyter.widget-state+json": {
    "state": {},
    "version_major": 2,
    "version_minor": 0
   }
  }
 },
 "nbformat": 4,
 "nbformat_minor": 5
}
